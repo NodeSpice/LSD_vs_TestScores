{
  "cells": [
    {
      "cell_type": "code",
      "execution_count": 1,
      "id": "603f8eb8",
      "metadata": {
        "colab": {
          "base_uri": "https://localhost:8080/"
        },
        "id": "603f8eb8",
        "outputId": "b16f5bba-2d90-4cb5-d91e-cc25451b8ff1"
      },
      "outputs": [
        {
          "output_type": "stream",
          "name": "stdout",
          "text": [
            "32\n"
          ]
        }
      ],
      "source": [
        "myAge = 32\n",
        "print (myAge)"
      ]
    },
    {
      "cell_type": "code",
      "source": [
        ""
      ],
      "metadata": {
        "id": "P_Lf51NyFdCB"
      },
      "id": "P_Lf51NyFdCB",
      "execution_count": 1,
      "outputs": []
    },
    {
      "cell_type": "code",
      "execution_count": 2,
      "id": "aea273a3",
      "metadata": {
        "colab": {
          "base_uri": "https://localhost:8080/"
        },
        "id": "aea273a3",
        "outputId": "75783313-5135-4e48-eaad-7925e83f8e45"
      },
      "outputs": [
        {
          "output_type": "stream",
          "name": "stdout",
          "text": [
            "   Time_Delay_in_Minutes  LSD_ppm  Avg_Math_Test_Score\n",
            "0                      5     1.17                78.93\n",
            "1                     15     2.97                58.20\n",
            "2                     30     3.26                67.47\n",
            "3                     60     4.69                37.47\n",
            "4                    120     5.83                45.65\n",
            "5                    240     6.00                32.92\n",
            "6                    480     6.41                29.97\n"
          ]
        }
      ],
      "source": [
        "import pandas as pd\n",
        "data = pd.read_csv('lsd_math_score_data.csv')\n",
        "print(data)"
      ]
    },
    {
      "cell_type": "code",
      "execution_count": 3,
      "id": "902ee05a",
      "metadata": {
        "colab": {
          "base_uri": "https://localhost:8080/"
        },
        "id": "902ee05a",
        "outputId": "0e33b3e5-4316-4794-a9b7-fb07fe651d65"
      },
      "outputs": [
        {
          "output_type": "stream",
          "name": "stdout",
          "text": [
            "   Time_Delay_in_Minutes\n",
            "0                      5\n",
            "1                     15\n",
            "2                     30\n",
            "3                     60\n",
            "4                    120\n",
            "5                    240\n",
            "6                    480\n",
            "   LSD_ppm\n",
            "0     1.17\n",
            "1     2.97\n",
            "2     3.26\n",
            "3     4.69\n",
            "4     5.83\n",
            "5     6.00\n",
            "6     6.41\n",
            "   Avg_Math_Test_Score\n",
            "0                78.93\n",
            "1                58.20\n",
            "2                67.47\n",
            "3                37.47\n",
            "4                45.65\n",
            "5                32.92\n",
            "6                29.97\n"
          ]
        }
      ],
      "source": [
        "time = data[['Time_Delay_in_Minutes']]\n",
        "LSD = data[['LSD_ppm']]\n",
        "score = data[['Avg_Math_Test_Score']]\n",
        "print(time)\n",
        "print(LSD)\n",
        "print(score)"
      ]
    },
    {
      "cell_type": "code",
      "execution_count": 4,
      "id": "f69b87f7",
      "metadata": {
        "id": "f69b87f7"
      },
      "outputs": [],
      "source": [
        "import matplotlib.pyplot as plt\n",
        "from sklearn.linear_model import LinearRegression"
      ]
    },
    {
      "cell_type": "code",
      "execution_count": 5,
      "id": "fe646910",
      "metadata": {
        "colab": {
          "base_uri": "https://localhost:8080/",
          "height": 305
        },
        "id": "fe646910",
        "outputId": "c9da77d4-4115-4d14-a3af-a06efbb3fe82"
      },
      "outputs": [
        {
          "output_type": "display_data",
          "data": {
            "image/png": "[encoded data removed]",
            "text/plain": [
              "<Figure size 432x288 with 1 Axes>"
            ]
          },
          "metadata": {
            "needs_background": "light"
          }
        }
      ],
      "source": [
        "%matplotlib inline\n",
        "\n",
        "plt.title('Tissue concentration of LSD over time', fontsize=15)\n",
        "plt.xlabel('Time in minues', fontsize=14)\n",
        "plt.ylabel('Tissue LSD PPM', fontsize=14)\n",
        "plt.text(x=200,y=3,s='Arbitraty Text to graph',fontsize=12)\n",
        "plt.xticks(fontsize=14)\n",
        "plt.yticks(fontsize=14)\n",
        "\n",
        "plt.ylim(1,7)\n",
        "plt.xlim(5,500)\n",
        "\n",
        "plt.style.use('classic')\n",
        "\n",
        "plt.plot(time, LSD, color='#f6b93b', linewidth=4)\n",
        "plt.show()"
      ]
    },
    {
      "cell_type": "code",
      "execution_count": 7,
      "id": "f33a6306",
      "metadata": {
        "colab": {
          "base_uri": "https://localhost:8080/"
        },
        "id": "f33a6306",
        "outputId": "21092480-62da-4822-e2be-b6e82c6d2b59"
      },
      "outputs": [
        {
          "output_type": "stream",
          "name": "stdout",
          "text": [
            "Theta1 :  -9.009466415296782\n",
            "Intercept:  89.12387376799305\n",
            "R-Square:  0.8778349707775888\n"
          ]
        }
      ],
      "source": [
        "regr = LinearRegression()\n",
        "regr.fit(LSD, score)\n",
        "print('Theta1 : ', regr.coef_[0][0])\n",
        "print('Intercept: ', regr.intercept_[0])\n",
        "print('R-Square: ', regr.score(LSD, score))\n",
        "predicted_score = regr.predict(LSD)"
      ]
    },
    {
      "cell_type": "code",
      "source": [
        "%matplotlib inline\n",
        "\n",
        "# Challenge: add title 'Arithmetic vs LSD-25'\n",
        "# Add label on X Axis 'Tissue LSD ppm'\n",
        "# Add label on Y Axis 'Performance Score'\n",
        "plt.title('Arithmetic vs LSD-25', fontsize=17)\n",
        "plt.xlabel('Tissue LSD ppm', fontsize=14)\n",
        "plt.ylabel('Performance Score', fontsize=14)\n",
        "plt.ylim(25, 85)\n",
        "plt.xlim(1, 6.5)\n",
        "plt.style.use('classic')\n",
        "\n",
        "plt.scatter(LSD, score, color='blue', s=100, alpha=0.7)\n",
        "plt.plot(LSD, predicted_score, color='red', linewidth=3)\n",
        "plt.show()"
      ],
      "metadata": {
        "colab": {
          "base_uri": "https://localhost:8080/",
          "height": 306
        },
        "id": "mUSN48pMHB_7",
        "outputId": "6daae87e-98d4-434c-da12-d6f254eb776f"
      },
      "id": "mUSN48pMHB_7",
      "execution_count": 8,
      "outputs": [
        {
          "output_type": "display_data",
          "data": {
            "image/png": "[encoded data removed]",
            "text/plain": [
              "<Figure size 432x288 with 1 Axes>"
            ]
          },
          "metadata": {
            "needs_background": "light"
          }
        }
      ]
    }
  ],
  "metadata": {
    "kernelspec": {
      "display_name": "Python 3 (ipykernel)",
      "language": "python",
      "name": "python3"
    },
    "language_info": {
      "codemirror_mode": {
        "name": "ipython",
        "version": 3
      },
      "file_extension": ".py",
      "mimetype": "text/x-python",
      "name": "python",
      "nbconvert_exporter": "python",
      "pygments_lexer": "ipython3",
      "version": "3.9.7"
    },
    "colab": {
      "name": "LSD Test Score analysis.ipynb",
      "provenance": []
    }
  },
  "nbformat": 4,
  "nbformat_minor": 5
}